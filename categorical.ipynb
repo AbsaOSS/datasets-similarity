{
 "cells": [
  {
   "cell_type": "code",
   "execution_count": 11,
   "outputs": [],
   "source": [
    "import pandas as pd\n",
    "\n",
    "import functions as f\n",
    "import time\n",
    "from comparing import ComparatorForDatasets\n",
    "from comparing import CategoricalSimilarity"
   ],
   "metadata": {
    "collapsed": false,
    "ExecuteTime": {
     "end_time": "2023-12-01T15:30:45.352819Z",
     "start_time": "2023-12-01T15:30:45.305928900Z"
    }
   },
   "id": "85c127dfeae03f00"
  },
  {
   "cell_type": "code",
   "execution_count": 12,
   "outputs": [],
   "source": [
    "import gensim.downloader as api\n",
    "\n",
    "\n",
    "wv = api.load('word2vec-google-news-300')\n"
   ],
   "metadata": {
    "collapsed": false,
    "ExecuteTime": {
     "end_time": "2023-12-01T15:31:31.185124400Z",
     "start_time": "2023-12-01T15:30:45.305928900Z"
    }
   },
   "id": "2734da4273da8b57"
  },
  {
   "cell_type": "code",
   "execution_count": 13,
   "id": "initial_id",
   "metadata": {
    "collapsed": true,
    "ExecuteTime": {
     "end_time": "2023-12-01T15:31:31.379146300Z",
     "start_time": "2023-12-01T15:31:31.185124400Z"
    }
   },
   "outputs": [],
   "source": [
    "database, names = f.load__csv_files_from_folder(\"data\")"
   ]
  },
  {
   "cell_type": "code",
   "execution_count": 14,
   "outputs": [],
   "source": [
    "from DataFrameMetadata import DataFrameMetadata\n",
    "from collections import defaultdict\n",
    "from itertools import compress\n",
    "\n",
    "categorical_all =  list()\n",
    "metadata_all = list()\n",
    "metadata : dict[str, DataFrameMetadata] = defaultdict()\n",
    "for dataframe, name in zip(database, names):\n",
    "    metadata[name] = f.DataFrameMetadataCreator(dataframe).compute_correlation(0.5).create_column_embeddings().get_metadata()\n",
    "    categorical_all.append(dataframe[list(compress(metadata[name].column_names, metadata[name].column_categorical))])\n",
    "    metadata_all.append(metadata[name].categorical_metadata)"
   ],
   "metadata": {
    "collapsed": false,
    "ExecuteTime": {
     "end_time": "2023-12-01T15:31:53.612578800Z",
     "start_time": "2023-12-01T15:31:31.379146300Z"
    }
   },
   "id": "10924d36f8a1aae"
  },
  {
   "cell_type": "code",
   "execution_count": 15,
   "outputs": [
    {
     "data": {
      "text/plain": "dict_keys(['reg_expiration', 'reg_state'])"
     },
     "execution_count": 15,
     "metadata": {},
     "output_type": "execute_result"
    }
   ],
   "source": [
    "metadata_all[0].keys()\n"
   ],
   "metadata": {
    "collapsed": false,
    "ExecuteTime": {
     "end_time": "2023-12-01T15:31:53.633928700Z",
     "start_time": "2023-12-01T15:31:53.612578800Z"
    }
   },
   "id": "c99470ad23d840e8"
  },
  {
   "cell_type": "code",
   "execution_count": 16,
   "outputs": [],
   "source": [
    "import numpy as np\n",
    "\n",
    "\n",
    "def cosine(u, v):\n",
    "    return np.dot(u, v) / (np.linalg.norm(u) * np.linalg.norm(v))"
   ],
   "metadata": {
    "collapsed": false,
    "ExecuteTime": {
     "end_time": "2023-12-01T15:31:53.633928700Z",
     "start_time": "2023-12-01T15:31:53.622615100Z"
    }
   },
   "id": "d60d098ec37b068f"
  },
  {
   "cell_type": "code",
   "execution_count": 23,
   "outputs": [],
   "source": [
    "def compute_similarity_score(similarity_matrix: defaultdict): ## todo test some other methods\n",
    "    res = 0\n",
    "    count = 0\n",
    "    trashold = 0.7\n",
    "    length = 0\n",
    "    for i in similarity_matrix.values():\n",
    "        avg = sum(i)/len(i)\n",
    "        length = len(i)\n",
    "        if max(i) > trashold:\n",
    "            count += 1\n",
    "        res += max(i)\n",
    "    return count, res/len(similarity_matrix) * (count/len(similarity_matrix))"
   ],
   "metadata": {
    "collapsed": false,
    "ExecuteTime": {
     "end_time": "2023-12-01T15:49:06.224129Z",
     "start_time": "2023-12-01T15:49:06.168284500Z"
    }
   },
   "id": "fc9dcf0c95906b2a"
  },
  {
   "cell_type": "code",
   "execution_count": 18,
   "outputs": [],
   "source": [
    "def get_ratio(count1: int, count2: int):\n",
    "    if count1 > count2:\n",
    "        return count1/count2\n",
    "    else:\n",
    "        return count2/count1"
   ],
   "metadata": {
    "collapsed": false,
    "ExecuteTime": {
     "end_time": "2023-12-01T15:31:53.723742700Z",
     "start_time": "2023-12-01T15:31:53.645713100Z"
    }
   },
   "id": "15fcfdc6ad3979a9"
  },
  {
   "cell_type": "code",
   "execution_count": 26,
   "outputs": [
    {
     "ename": "KeyboardInterrupt",
     "evalue": "",
     "output_type": "error",
     "traceback": [
      "\u001B[1;31m---------------------------------------------------------------------------\u001B[0m",
      "\u001B[1;31mKeyboardInterrupt\u001B[0m                         Traceback (most recent call last)",
      "Cell \u001B[1;32mIn[26], line 17\u001B[0m\n\u001B[0;32m     15\u001B[0m     \u001B[38;5;28;01mfor\u001B[39;00m category_to_compare \u001B[38;5;129;01min\u001B[39;00m category_to_compare_embed:\n\u001B[0;32m     16\u001B[0m         simil_matrix[name]\u001B[38;5;241m.\u001B[39mappend(cosine(category, category_to_compare))     \n\u001B[1;32m---> 17\u001B[0m count, score \u001B[38;5;241m=\u001B[39m compute_similarity_score(simil_matrix)\n\u001B[0;32m     18\u001B[0m similarity \u001B[38;5;241m=\u001B[39m CategoricalSimilarity(\n\u001B[0;32m     19\u001B[0m     categories_ratio\u001B[38;5;241m=\u001B[39mget_ratio(column\u001B[38;5;241m.\u001B[39mcount_categories, column_to_compare\u001B[38;5;241m.\u001B[39mcount_categories),\n\u001B[0;32m     20\u001B[0m     count_similar\u001B[38;5;241m=\u001B[39mcount,\n\u001B[0;32m     21\u001B[0m     similarity_score\u001B[38;5;241m=\u001B[39mscore\n\u001B[0;32m     22\u001B[0m )\n\u001B[0;32m     23\u001B[0m similarity_struct \u001B[38;5;241m=\u001B[39m SimilarityStruct(categorical_similarity\u001B[38;5;241m=\u001B[39msimilarity,\n\u001B[0;32m     24\u001B[0m   column_name\u001B[38;5;241m=\u001B[39mcolumn_compare_name,\n\u001B[0;32m     25\u001B[0m   table_name\u001B[38;5;241m=\u001B[39mto_compare_table_name                                  )\n",
      "File \u001B[1;32m_pydevd_bundle\\pydevd_cython_win32_311_64.pyx:1179\u001B[0m, in \u001B[0;36m_pydevd_bundle.pydevd_cython_win32_311_64.SafeCallWrapper.__call__\u001B[1;34m()\u001B[0m\n",
      "File \u001B[1;32m_pydevd_bundle\\pydevd_cython_win32_311_64.pyx:620\u001B[0m, in \u001B[0;36m_pydevd_bundle.pydevd_cython_win32_311_64.PyDBFrame.trace_dispatch\u001B[1;34m()\u001B[0m\n",
      "File \u001B[1;32m_pydevd_bundle\\pydevd_cython_win32_311_64.pyx:929\u001B[0m, in \u001B[0;36m_pydevd_bundle.pydevd_cython_win32_311_64.PyDBFrame.trace_dispatch\u001B[1;34m()\u001B[0m\n",
      "File \u001B[1;32m_pydevd_bundle\\pydevd_cython_win32_311_64.pyx:920\u001B[0m, in \u001B[0;36m_pydevd_bundle.pydevd_cython_win32_311_64.PyDBFrame.trace_dispatch\u001B[1;34m()\u001B[0m\n",
      "File \u001B[1;32m_pydevd_bundle\\pydevd_cython_win32_311_64.pyx:317\u001B[0m, in \u001B[0;36m_pydevd_bundle.pydevd_cython_win32_311_64.PyDBFrame.do_wait_suspend\u001B[1;34m()\u001B[0m\n",
      "File \u001B[1;32m~\\AppData\\Local\\JetBrains\\PyCharm 2023.2.2\\plugins\\python\\helpers\\pydev\\pydevd.py:1160\u001B[0m, in \u001B[0;36mPyDB.do_wait_suspend\u001B[1;34m(self, thread, frame, event, arg, send_suspend_message, is_unhandled_exception)\u001B[0m\n\u001B[0;32m   1157\u001B[0m         from_this_thread\u001B[38;5;241m.\u001B[39mappend(frame_id)\n\u001B[0;32m   1159\u001B[0m \u001B[38;5;28;01mwith\u001B[39;00m \u001B[38;5;28mself\u001B[39m\u001B[38;5;241m.\u001B[39m_threads_suspended_single_notification\u001B[38;5;241m.\u001B[39mnotify_thread_suspended(thread_id, stop_reason):\n\u001B[1;32m-> 1160\u001B[0m     \u001B[38;5;28;43mself\u001B[39;49m\u001B[38;5;241;43m.\u001B[39;49m\u001B[43m_do_wait_suspend\u001B[49m\u001B[43m(\u001B[49m\u001B[43mthread\u001B[49m\u001B[43m,\u001B[49m\u001B[43m \u001B[49m\u001B[43mframe\u001B[49m\u001B[43m,\u001B[49m\u001B[43m \u001B[49m\u001B[43mevent\u001B[49m\u001B[43m,\u001B[49m\u001B[43m \u001B[49m\u001B[43marg\u001B[49m\u001B[43m,\u001B[49m\u001B[43m \u001B[49m\u001B[43msuspend_type\u001B[49m\u001B[43m,\u001B[49m\u001B[43m \u001B[49m\u001B[43mfrom_this_thread\u001B[49m\u001B[43m)\u001B[49m\n",
      "File \u001B[1;32m~\\AppData\\Local\\JetBrains\\PyCharm 2023.2.2\\plugins\\python\\helpers\\pydev\\pydevd.py:1175\u001B[0m, in \u001B[0;36mPyDB._do_wait_suspend\u001B[1;34m(self, thread, frame, event, arg, suspend_type, from_this_thread)\u001B[0m\n\u001B[0;32m   1172\u001B[0m             \u001B[38;5;28mself\u001B[39m\u001B[38;5;241m.\u001B[39m_call_mpl_hook()\n\u001B[0;32m   1174\u001B[0m         \u001B[38;5;28mself\u001B[39m\u001B[38;5;241m.\u001B[39mprocess_internal_commands()\n\u001B[1;32m-> 1175\u001B[0m         time\u001B[38;5;241m.\u001B[39msleep(\u001B[38;5;241m0.01\u001B[39m)\n\u001B[0;32m   1177\u001B[0m \u001B[38;5;28mself\u001B[39m\u001B[38;5;241m.\u001B[39mcancel_async_evaluation(get_current_thread_id(thread), \u001B[38;5;28mstr\u001B[39m(\u001B[38;5;28mid\u001B[39m(frame)))\n\u001B[0;32m   1179\u001B[0m \u001B[38;5;66;03m# process any stepping instructions\u001B[39;00m\n",
      "\u001B[1;31mKeyboardInterrupt\u001B[0m: "
     ]
    }
   ],
   "source": [
    "\n",
    "from comparing import SimilarityData, SimilarityStruct\n",
    "\n",
    "start_time = time.perf_counter()\n",
    "result = list()\n",
    "for category_metadata in metadata_all:\n",
    "    table_data = SimilarityData()\n",
    "    for to_compare_metadata, to_compare_table_name in zip( metadata_all, names):\n",
    "        if category_metadata != to_compare_metadata:\n",
    "            for column_name, column in category_metadata.items():\n",
    "                for column_compare_name, column_to_compare in to_compare_metadata.items():\n",
    "                    simil_matrix = defaultdict(list)\n",
    "                    category_to_compare_embed = column_to_compare.category_embedding\n",
    "                    for category, name in zip(column.category_embedding, column.categories):\n",
    "                        for category_to_compare in category_to_compare_embed:\n",
    "                            simil_matrix[name].append(cosine(category, category_to_compare))     \n",
    "                    count, score = compute_similarity_score(simil_matrix)\n",
    "                    similarity = CategoricalSimilarity(\n",
    "                        categories_ratio=get_ratio(column.count_categories, column_to_compare.count_categories),\n",
    "                        count_similar=count,\n",
    "                        similarity_score=score\n",
    "                    )\n",
    "                    similarity_struct = SimilarityStruct(categorical_similarity=similarity,\n",
    "                      column_name=column_compare_name,\n",
    "                      table_name=to_compare_table_name                                  )\n",
    "                    table_data.similarity_columns[column_name].append(similarity_struct)\n",
    "    result.append(table_data)\n",
    "    print(\"Table done\")\n",
    "    \n",
    "finish_time = time.perf_counter()\n",
    "print(\"Program finished in {} seconds\".format(finish_time-start_time))     "
   ],
   "metadata": {
    "collapsed": false,
    "ExecuteTime": {
     "end_time": "2023-12-01T15:52:46.724632200Z",
     "start_time": "2023-12-01T15:51:13.662115Z"
    }
   },
   "id": "96458f6a97a733f4"
  },
  {
   "cell_type": "code",
   "execution_count": null,
   "outputs": [],
   "source": [],
   "metadata": {
    "collapsed": false,
    "ExecuteTime": {
     "start_time": "2023-12-01T15:31:53.708074Z"
    }
   },
   "id": "14262bd00c85370d"
  },
  {
   "cell_type": "code",
   "execution_count": null,
   "outputs": [],
   "source": [
    "metadata_all[0]['model'].categories"
   ],
   "metadata": {
    "collapsed": false,
    "ExecuteTime": {
     "start_time": "2023-12-01T15:31:53.708074Z"
    }
   },
   "id": "fea2c4d009e8cbb3"
  },
  {
   "cell_type": "code",
   "execution_count": null,
   "outputs": [],
   "source": [
    "categorical_all[0]"
   ],
   "metadata": {
    "collapsed": false,
    "ExecuteTime": {
     "start_time": "2023-12-01T15:31:53.708074Z"
    }
   },
   "id": "ba67d8d71ddc955"
  },
  {
   "cell_type": "code",
   "execution_count": null,
   "outputs": [],
   "source": [
    "categorical_all[7]"
   ],
   "metadata": {
    "collapsed": false,
    "ExecuteTime": {
     "start_time": "2023-12-01T15:31:53.708074Z"
    }
   },
   "id": "f4e79cb2ddc998ba"
  },
  {
   "cell_type": "code",
   "execution_count": null,
   "outputs": [],
   "source": [
    "matrix = [[0.6, 1, 0.3, 0.4],\n",
    "          [1, 0.4, 0.3, 0.4],\n",
    "          [0.6, 0.2, 1, 0.4],\n",
    "          ]\n",
    "for i in matrix:\n",
    "    print(sum(i), \" \", max(i))"
   ],
   "metadata": {
    "collapsed": false,
    "ExecuteTime": {
     "start_time": "2023-12-01T15:31:53.708074Z"
    }
   },
   "id": "1078d8479ac2e168"
  },
  {
   "cell_type": "code",
   "execution_count": null,
   "outputs": [],
   "source": [],
   "metadata": {
    "collapsed": false,
    "ExecuteTime": {
     "start_time": "2023-12-01T15:31:53.708074Z"
    }
   },
   "id": "bd162e3aee997af"
  }
 ],
 "metadata": {
  "kernelspec": {
   "display_name": "Python 3",
   "language": "python",
   "name": "python3"
  },
  "language_info": {
   "codemirror_mode": {
    "name": "ipython",
    "version": 2
   },
   "file_extension": ".py",
   "mimetype": "text/x-python",
   "name": "python",
   "nbconvert_exporter": "python",
   "pygments_lexer": "ipython2",
   "version": "2.7.6"
  }
 },
 "nbformat": 4,
 "nbformat_minor": 5
}
