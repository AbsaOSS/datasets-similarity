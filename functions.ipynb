{
 "cells": [
  {
   "cell_type": "code",
   "execution_count": 2,
   "id": "initial_id",
   "metadata": {
    "collapsed": true,
    "ExecuteTime": {
     "end_time": "2023-11-15T12:23:58.367445100Z",
     "start_time": "2023-11-15T12:23:58.347237Z"
    }
   },
   "outputs": [],
   "source": [
    "import pandas as pd\n",
    "\n",
    "import functions as f"
   ]
  },
  {
   "cell_type": "code",
   "execution_count": 3,
   "outputs": [
    {
     "name": "stdout",
     "output_type": "stream",
     "text": [
      "3\n"
     ]
    }
   ],
   "source": [
    "from DataFrameMetadata import DataFrameMetadata\n",
    "\n",
    "metadata = DataFrameMetadata()\n",
    "metadata.size = 3\n",
    "\n",
    "print(metadata.size)"
   ],
   "metadata": {
    "collapsed": false,
    "ExecuteTime": {
     "end_time": "2023-11-15T12:23:59.072464900Z",
     "start_time": "2023-11-15T12:23:59.057282500Z"
    }
   },
   "id": "8696a630a4b31c34"
  },
  {
   "cell_type": "code",
   "execution_count": 4,
   "outputs": [],
   "source": [
    "database, names = f.load__csv_files_from_folder(\"data\")\n"
   ],
   "metadata": {
    "collapsed": false,
    "ExecuteTime": {
     "end_time": "2023-11-15T12:24:00.049354400Z",
     "start_time": "2023-11-15T12:23:59.857597100Z"
    }
   },
   "id": "6bf2eb0080781ecf"
  },
  {
   "cell_type": "code",
   "execution_count": 5,
   "outputs": [],
   "source": [
    "from comparing import ComparatorForDatasets\n",
    "from collections import defaultdict\n",
    "\n",
    "metadata : dict[str, pd.DataFrame] = defaultdict()\n",
    "for dataframe, name in zip(database, names):\n",
    "    metadata[name] = f.DataFrameWithStat(dataframe).compute_correlation(0.5).create_column_embeddings().get_metadata()\n",
    "    \n",
    "comparator = ComparatorForDatasets(metadata)"
   ],
   "metadata": {
    "collapsed": false,
    "ExecuteTime": {
     "end_time": "2023-11-15T12:24:16.944889700Z",
     "start_time": "2023-11-15T12:24:01.132656300Z"
    }
   },
   "id": "e934d926e6b910c3"
  },
  {
   "cell_type": "code",
   "execution_count": 6,
   "outputs": [
    {
     "name": "stdout",
     "output_type": "stream",
     "text": [
      "aircraft-data_nov_dec  is most similar to  USA_cars_datasets  by  0.8473674456278483\n",
      "Airplane_Cleaned  is most similar to  aircraft-data_nov_dec  by  0.7950917482376099\n",
      "autoscout24-germany-dataset  is most similar to  CARS_1  by  0.7972323099772135\n",
      "CARS_1  is most similar to  USA_cars_datasets  by  0.8644307255744934\n",
      "disney_movies  is most similar to  imdb_top_1000  by  0.7005533277988434\n",
      "exchange_rates  is most similar to  imdb_top_1000  by  0.7916637659072876\n",
      "imdb_top_1000  is most similar to  netflix_titles  by  0.7878746655252244\n",
      "netflix_titles  is most similar to  imdb_top_1000  by  0.7437895685434341\n",
      "Sales_Transaction10000  is most similar to  transaction_data  by  0.7536337375640869\n",
      "transaction_data  is most similar to  disney_movies  by  0.7216140031814575\n",
      "USA_cars_datasets  is most similar to  CARS_1  by  0.6596778184175491\n"
     ]
    }
   ],
   "source": [
    "comparator.cross_compare()"
   ],
   "metadata": {
    "collapsed": false,
    "ExecuteTime": {
     "end_time": "2023-11-15T12:24:20.527223700Z",
     "start_time": "2023-11-15T12:24:20.472673100Z"
    }
   },
   "id": "5479cbc770703aa9"
  },
  {
   "cell_type": "code",
   "execution_count": 9,
   "outputs": [],
   "source": [
    "from Types import Types\n",
    "\n",
    "metadata_date : dict[str, pd.DataFrame] = defaultdict()\n",
    "for dataframe, name in zip(database, names):\n",
    "    metadata_date[name] = f.DataFrameWithStat(dataframe).compute_correlation(0.5).create_column_embeddings([Types.STRING, Types.TEXT, Types.UNDEFINED, Types.DATE, Types.BOOL ]).get_metadata()\n",
    "    \n",
    "comparator_date = ComparatorForDatasets(metadata_date)"
   ],
   "metadata": {
    "collapsed": false,
    "ExecuteTime": {
     "end_time": "2023-11-15T12:33:06.801200700Z",
     "start_time": "2023-11-15T12:33:00.151417Z"
    }
   },
   "id": "1fe47c717a24b9a2"
  },
  {
   "cell_type": "code",
   "execution_count": 10,
   "outputs": [
    {
     "name": "stdout",
     "output_type": "stream",
     "text": [
      "aircraft-data_nov_dec  is most similar to  USA_cars_datasets  by  0.8473674456278483\n",
      "Airplane_Cleaned  is most similar to  aircraft-data_nov_dec  by  0.707200805346171\n",
      "autoscout24-germany-dataset  is most similar to  CARS_1  by  0.7972323099772135\n",
      "CARS_1  is most similar to  USA_cars_datasets  by  0.8644307255744934\n",
      "disney_movies  is most similar to  netflix_titles  by  0.7754080891609192\n",
      "exchange_rates  is most similar to  netflix_titles  by  0.7050980925559998\n",
      "imdb_top_1000  is most similar to  netflix_titles  by  0.7878746655252244\n",
      "netflix_titles  is most similar to  imdb_top_1000  by  0.7555240137236459\n",
      "Sales_Transaction10000  is most similar to  transaction_data  by  0.7536337375640869\n",
      "transaction_data  is most similar to  Sales_Transaction10000  by  0.8204637467861176\n",
      "USA_cars_datasets  is most similar to  aircraft-data_nov_dec  by  0.7875844438870748\n"
     ]
    }
   ],
   "source": [
    "comparator_date.cross_compare()"
   ],
   "metadata": {
    "collapsed": false,
    "ExecuteTime": {
     "end_time": "2023-11-15T12:33:11.791912300Z",
     "start_time": "2023-11-15T12:33:11.751169700Z"
    }
   },
   "id": "642fc913e1a4d0b0"
  },
  {
   "cell_type": "code",
   "execution_count": 4,
   "outputs": [
    {
     "data": {
      "text/plain": "Unnamed: 0        10000\nflight             9989\ntail_number       10000\nlong              10000\nlat               10000\nalt               10000\nmanufacturer       9748\nmodel              9748\nreg_expiration     9680\nreg_owner          9748\nreg_city           9791\nreg_state          9790\nsquawk             9405\nmph               10000\nspotted           10000\ndtype: int64"
     },
     "execution_count": 4,
     "metadata": {},
     "output_type": "execute_result"
    }
   ],
   "source": [
    "database[0].count()\n"
   ],
   "metadata": {
    "collapsed": false,
    "ExecuteTime": {
     "end_time": "2023-11-15T09:15:13.212328200Z",
     "start_time": "2023-11-15T09:15:13.178157100Z"
    }
   },
   "id": "4f8d6980fde3224a"
  },
  {
   "cell_type": "code",
   "execution_count": 3,
   "outputs": [],
   "source": [
    "data0 = f.DataFrameWithStat(database[0])"
   ],
   "metadata": {
    "collapsed": false,
    "ExecuteTime": {
     "end_time": "2023-11-10T11:08:07.774491300Z",
     "start_time": "2023-11-10T11:08:07.015419600Z"
    }
   },
   "id": "a1ec8167d8484452"
  },
  {
   "cell_type": "code",
   "execution_count": 6,
   "outputs": [
    {
     "data": {
      "text/plain": "        alt      lat  squawk  mph     long  Unnamed: 0\n0     20175  34.5823  1077.0  474 -118.213           0\n1     36700  34.6038  7730.0  523 -117.937           1\n2     13225  34.6345  4770.0  380 -118.035           2\n3     33750  34.4643  1751.0  527 -118.075           3\n4     34725  34.6002  6054.0  525 -117.756           4\n...     ...      ...     ...  ...      ...         ...\n9995   9925  34.6057  7212.0  460 -118.179        9995\n9996  20900  34.6983  4710.0  460 -117.860        9996\n9997  23975  34.7452  3523.0  481 -118.280        9997\n9998   8075  34.5663  4662.0  322 -118.356        9998\n9999   7425  34.6309  6353.0  460 -118.070        9999\n\n[10000 rows x 6 columns]",
      "text/html": "<div>\n<style scoped>\n    .dataframe tbody tr th:only-of-type {\n        vertical-align: middle;\n    }\n\n    .dataframe tbody tr th {\n        vertical-align: top;\n    }\n\n    .dataframe thead th {\n        text-align: right;\n    }\n</style>\n<table border=\"1\" class=\"dataframe\">\n  <thead>\n    <tr style=\"text-align: right;\">\n      <th></th>\n      <th>alt</th>\n      <th>lat</th>\n      <th>squawk</th>\n      <th>mph</th>\n      <th>long</th>\n      <th>Unnamed: 0</th>\n    </tr>\n  </thead>\n  <tbody>\n    <tr>\n      <th>0</th>\n      <td>20175</td>\n      <td>34.5823</td>\n      <td>1077.0</td>\n      <td>474</td>\n      <td>-118.213</td>\n      <td>0</td>\n    </tr>\n    <tr>\n      <th>1</th>\n      <td>36700</td>\n      <td>34.6038</td>\n      <td>7730.0</td>\n      <td>523</td>\n      <td>-117.937</td>\n      <td>1</td>\n    </tr>\n    <tr>\n      <th>2</th>\n      <td>13225</td>\n      <td>34.6345</td>\n      <td>4770.0</td>\n      <td>380</td>\n      <td>-118.035</td>\n      <td>2</td>\n    </tr>\n    <tr>\n      <th>3</th>\n      <td>33750</td>\n      <td>34.4643</td>\n      <td>1751.0</td>\n      <td>527</td>\n      <td>-118.075</td>\n      <td>3</td>\n    </tr>\n    <tr>\n      <th>4</th>\n      <td>34725</td>\n      <td>34.6002</td>\n      <td>6054.0</td>\n      <td>525</td>\n      <td>-117.756</td>\n      <td>4</td>\n    </tr>\n    <tr>\n      <th>...</th>\n      <td>...</td>\n      <td>...</td>\n      <td>...</td>\n      <td>...</td>\n      <td>...</td>\n      <td>...</td>\n    </tr>\n    <tr>\n      <th>9995</th>\n      <td>9925</td>\n      <td>34.6057</td>\n      <td>7212.0</td>\n      <td>460</td>\n      <td>-118.179</td>\n      <td>9995</td>\n    </tr>\n    <tr>\n      <th>9996</th>\n      <td>20900</td>\n      <td>34.6983</td>\n      <td>4710.0</td>\n      <td>460</td>\n      <td>-117.860</td>\n      <td>9996</td>\n    </tr>\n    <tr>\n      <th>9997</th>\n      <td>23975</td>\n      <td>34.7452</td>\n      <td>3523.0</td>\n      <td>481</td>\n      <td>-118.280</td>\n      <td>9997</td>\n    </tr>\n    <tr>\n      <th>9998</th>\n      <td>8075</td>\n      <td>34.5663</td>\n      <td>4662.0</td>\n      <td>322</td>\n      <td>-118.356</td>\n      <td>9998</td>\n    </tr>\n    <tr>\n      <th>9999</th>\n      <td>7425</td>\n      <td>34.6309</td>\n      <td>6353.0</td>\n      <td>460</td>\n      <td>-118.070</td>\n      <td>9999</td>\n    </tr>\n  </tbody>\n</table>\n<p>10000 rows × 6 columns</p>\n</div>"
     },
     "execution_count": 6,
     "metadata": {},
     "output_type": "execute_result"
    }
   ],
   "source": [
    "data0.get_numerical_columns()"
   ],
   "metadata": {
    "collapsed": false,
    "ExecuteTime": {
     "end_time": "2023-11-10T09:30:54.048314800Z",
     "start_time": "2023-11-10T09:30:54.031347500Z"
    }
   },
   "id": "ed650185d0044ab6"
  },
  {
   "cell_type": "code",
   "execution_count": 4,
   "outputs": [
    {
     "data": {
      "text/plain": "{('alt', 'mph')}"
     },
     "execution_count": 4,
     "metadata": {},
     "output_type": "execute_result"
    }
   ],
   "source": [
    "data0.compute_correlation(0.5)"
   ],
   "metadata": {
    "collapsed": false,
    "ExecuteTime": {
     "end_time": "2023-11-10T11:08:07.791736600Z",
     "start_time": "2023-11-10T11:08:07.781269100Z"
    }
   },
   "id": "2d7de24f647f2356"
  },
  {
   "cell_type": "code",
   "execution_count": 11,
   "outputs": [
    {
     "name": "stdout",
     "output_type": "stream",
     "text": [
      "[(<Types.NUMERICAL: 1>, 'Unnamed: 0'), (<Types.STRING: 3>, 'flight'), (<Types.STRING: 3>, 'tail_number'), (<Types.NUMERICAL: 1>, 'long'), (<Types.NUMERICAL: 1>, 'lat'), (<Types.NUMERICAL: 1>, 'alt'), (<Types.STRING: 3>, 'manufacturer'), (<Types.STRING: 3>, 'model'), (<Types.DATE: 7>, 'reg_expiration'), (<Types.STRING: 3>, 'reg_owner'), (<Types.STRING: 3>, 'reg_city'), (<Types.STRING: 3>, 'reg_state'), (<Types.NUMERICAL: 1>, 'squawk'), (<Types.NUMERICAL: 1>, 'mph'), (<Types.DATE: 7>, 'spotted')]\n"
     ]
    }
   ],
   "source": [
    "print([(f.get_type(database[0][i]), i) for i in database[0].columns])\n"
   ],
   "metadata": {
    "collapsed": false,
    "ExecuteTime": {
     "end_time": "2023-11-10T09:30:54.687256800Z",
     "start_time": "2023-11-10T09:30:54.653522300Z"
    }
   },
   "id": "92c7c316184a8305"
  },
  {
   "cell_type": "code",
   "execution_count": 12,
   "outputs": [],
   "source": [],
   "metadata": {
    "collapsed": false,
    "ExecuteTime": {
     "end_time": "2023-11-10T09:30:54.687256800Z",
     "start_time": "2023-11-10T09:30:54.676433900Z"
    }
   },
   "id": "df9178c65f414d7f"
  }
 ],
 "metadata": {
  "kernelspec": {
   "display_name": "Python 3",
   "language": "python",
   "name": "python3"
  },
  "language_info": {
   "codemirror_mode": {
    "name": "ipython",
    "version": 2
   },
   "file_extension": ".py",
   "mimetype": "text/x-python",
   "name": "python",
   "nbconvert_exporter": "python",
   "pygments_lexer": "ipython2",
   "version": "2.7.6"
  }
 },
 "nbformat": 4,
 "nbformat_minor": 5
}
