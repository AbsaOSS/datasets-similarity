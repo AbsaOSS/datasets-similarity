{
 "cells": [
  {
   "cell_type": "code",
   "execution_count": 1,
   "id": "initial_id",
   "metadata": {
    "collapsed": true,
    "ExecuteTime": {
     "end_time": "2023-11-23T09:40:57.734364600Z",
     "start_time": "2023-11-23T09:40:31.388912100Z"
    }
   },
   "source": [
    "import math\n",
    "\n",
    "import pandas as pd\n",
    "\n",
    "import functions as f"
   ],
   "outputs": []
  },
  {
   "cell_type": "code",
   "execution_count": 2,
   "source": [
    "\n",
    "\n",
    "from similarity.DataFrameMetadata import DataFrameMetadata\n",
    "\n",
    "metadata = DataFrameMetadata()\n",
    "metadata.size = 3\n",
    "\n",
    "print(metadata.size)"
   ],
   "metadata": {
    "collapsed": false,
    "ExecuteTime": {
     "end_time": "2023-11-23T09:40:57.776166700Z",
     "start_time": "2023-11-23T09:40:57.734364600Z"
    }
   },
   "id": "8696a630a4b31c34",
   "outputs": []
  },
  {
   "cell_type": "code",
   "execution_count": 3,
   "source": [
    "database, names = f.load__csv_files_from_folder(\"data\")\n"
   ],
   "metadata": {
    "collapsed": false,
    "ExecuteTime": {
     "end_time": "2023-11-23T09:40:58.178096700Z",
     "start_time": "2023-11-23T09:40:57.760515300Z"
    }
   },
   "id": "6bf2eb0080781ecf",
   "outputs": []
  },
  {
   "cell_type": "code",
   "execution_count": 4,
   "source": [
    "from comparing import ComparatorForDatasets\n",
    "from collections import defaultdict\n",
    "\n",
    "metadata : dict[str, DataFrameMetadata] = defaultdict()\n",
    "for dataframe, name in zip(database, names):\n",
    "    metadata[name] = f.DataFrameWithStat(dataframe).compute_correlation(0.5).create_column_embeddings().get_metadata()\n",
    "    \n",
    "comparator = ComparatorForDatasets(metadata)"
   ],
   "metadata": {
    "collapsed": false,
    "ExecuteTime": {
     "end_time": "2023-11-23T09:41:19.068810200Z",
     "start_time": "2023-11-23T09:40:58.178096700Z"
    }
   },
   "id": "e934d926e6b910c3",
   "outputs": []
  },
  {
   "cell_type": "code",
   "execution_count": 12,
   "source": [],
   "metadata": {
    "collapsed": false,
    "ExecuteTime": {
     "end_time": "2023-11-23T09:45:48.660645900Z",
     "start_time": "2023-11-23T09:45:48.587666200Z"
    }
   },
   "id": "f855cc5b7560dde5",
   "outputs": []
  },
  {
   "cell_type": "code",
   "execution_count": 5,
   "source": [
    "comparator.cross_compare_column_names()"
   ],
   "metadata": {
    "collapsed": false,
    "ExecuteTime": {
     "end_time": "2023-11-16T12:00:27.230558300Z",
     "start_time": "2023-11-16T12:00:24.945613700Z"
    }
   },
   "id": "d23f0b9176f513c",
   "outputs": []
  },
  {
   "cell_type": "code",
   "execution_count": 6,
   "source": [
    "comparator.cross_compare()"
   ],
   "metadata": {
    "collapsed": false,
    "ExecuteTime": {
     "end_time": "2023-11-15T12:24:20.527223700Z",
     "start_time": "2023-11-15T12:24:20.472673100Z"
    }
   },
   "id": "5479cbc770703aa9",
   "outputs": []
  },
  {
   "cell_type": "code",
   "execution_count": 24,
   "source": [
    "from similarity.Types import Types\n",
    "\n",
    "metadata_date : dict[str, DataFrameMetadata] = defaultdict()\n",
    "for dataframe, name in zip(database, names):\n",
    "    metadata_date[name] = f.DataFrameWithStat(dataframe).compute_correlation(0.5).create_column_embeddings([Types.STRING, Types.TEXT, Types.UNDEFINED, Types.DATE, Types.BOOL, Types.FLOAT, Types.NUMERICAL, Types.INT ]).get_metadata()\n",
    "    \n",
    "comparator_date = ComparatorForDatasets(metadata_date)"
   ],
   "metadata": {
    "collapsed": false,
    "ExecuteTime": {
     "end_time": "2023-11-15T13:30:01.363782700Z",
     "start_time": "2023-11-15T13:29:42.334011800Z"
    }
   },
   "id": "1fe47c717a24b9a2",
   "outputs": []
  },
  {
   "cell_type": "code",
   "execution_count": 25,
   "source": [
    "comparator_date.cross_compare()"
   ],
   "metadata": {
    "collapsed": false,
    "ExecuteTime": {
     "end_time": "2023-11-15T13:30:12.068755100Z",
     "start_time": "2023-11-15T13:30:11.958910300Z"
    }
   },
   "id": "642fc913e1a4d0b0",
   "outputs": []
  },
  {
   "cell_type": "code",
   "execution_count": 4,
   "source": [
    "database[0].count()\n"
   ],
   "metadata": {
    "collapsed": false,
    "ExecuteTime": {
     "end_time": "2023-11-15T09:15:13.212328200Z",
     "start_time": "2023-11-15T09:15:13.178157100Z"
    }
   },
   "id": "4f8d6980fde3224a",
   "outputs": []
  },
  {
   "cell_type": "code",
   "execution_count": 3,
   "source": [
    "data0 = f.DataFrameWithStat(database[0])"
   ],
   "metadata": {
    "collapsed": false,
    "ExecuteTime": {
     "end_time": "2023-11-10T11:08:07.774491300Z",
     "start_time": "2023-11-10T11:08:07.015419600Z"
    }
   },
   "id": "a1ec8167d8484452",
   "outputs": []
  },
  {
   "cell_type": "code",
   "execution_count": 6,
   "source": [
    "data0.get_numerical_columns()"
   ],
   "metadata": {
    "collapsed": false,
    "ExecuteTime": {
     "end_time": "2023-11-10T09:30:54.048314800Z",
     "start_time": "2023-11-10T09:30:54.031347500Z"
    }
   },
   "id": "ed650185d0044ab6",
   "outputs": []
  },
  {
   "cell_type": "code",
   "execution_count": 4,
   "source": [
    "data0.compute_correlation(0.5)"
   ],
   "metadata": {
    "collapsed": false,
    "ExecuteTime": {
     "end_time": "2023-11-10T11:08:07.791736600Z",
     "start_time": "2023-11-10T11:08:07.781269100Z"
    }
   },
   "id": "2d7de24f647f2356",
   "outputs": []
  },
  {
   "cell_type": "code",
   "execution_count": 11,
   "source": [
    "print([(f.get_type(database[0][i]), i) for i in database[0].columns])\n"
   ],
   "metadata": {
    "collapsed": false,
    "ExecuteTime": {
     "end_time": "2023-11-10T09:30:54.687256800Z",
     "start_time": "2023-11-10T09:30:54.653522300Z"
    }
   },
   "id": "92c7c316184a8305",
   "outputs": []
  },
  {
   "cell_type": "code",
   "execution_count": 29,
   "source": [
    "disney = metadata['disney_movies'].categorical_metadata['genre'].categories_with_count"
   ],
   "metadata": {
    "collapsed": false,
    "ExecuteTime": {
     "end_time": "2023-11-23T10:32:08.859857900Z",
     "start_time": "2023-11-23T10:32:08.749867600Z"
    }
   },
   "id": "e2783e4263be23d8",
   "outputs": []
  },
  {
   "cell_type": "code",
   "execution_count": 14,
   "source": [
    "metadata['netflix_titles'].categorical_metadata['type'].categories_with_count"
   ],
   "metadata": {
    "collapsed": false,
    "ExecuteTime": {
     "end_time": "2023-11-23T09:47:26.094226700Z",
     "start_time": "2023-11-23T09:47:25.953111100Z"
    }
   },
   "id": "8f823be8f03a6a44",
   "outputs": []
  },
  {
   "cell_type": "code",
   "execution_count": 30,
   "source": [
    "imdb = metadata['imdb_top_1000'].categorical_metadata['IMDB_Rating'].categories_with_count"
   ],
   "metadata": {
    "collapsed": false,
    "ExecuteTime": {
     "end_time": "2023-11-23T10:32:18.725500600Z",
     "start_time": "2023-11-23T10:32:18.503727900Z"
    }
   },
   "id": "adf0bccba5fc9033",
   "outputs": []
  },
  {
   "cell_type": "code",
   "execution_count": 63,
   "source": [],
   "metadata": {
    "collapsed": false,
    "ExecuteTime": {
     "end_time": "2023-11-23T11:10:09.998023Z",
     "start_time": "2023-11-23T11:10:09.889702200Z"
    }
   },
   "id": "70100f404f115926",
   "outputs": []
  },
  {
   "cell_type": "code",
   "execution_count": 53,
   "source": [
    "\n",
    "disney_bigger = metadata['disney_movies'].categorical_metadata['genre'].categories_with_count.copy()\n",
    "disney_smaller = metadata['disney_movies'].categorical_metadata['genre'].categories_with_count.copy()\n",
    "for i in disney_bigger.items():\n",
    "    disney_bigger[i[0]] = i[1] * 10\n",
    "    disney_smaller[i[0]] = int(i[1] / 10)\n",
    "\n",
    "disney_bigger"
   ],
   "metadata": {
    "collapsed": false,
    "ExecuteTime": {
     "end_time": "2023-11-23T10:57:28.900278900Z",
     "start_time": "2023-11-23T10:57:28.672425300Z"
    }
   },
   "id": "ee6ebc01dd8d489d",
   "outputs": []
  },
  {
   "cell_type": "code",
   "execution_count": 60,
   "source": [
    "import math\n",
    "# https://math.stackexchange.com/questions/2383969/properly-comparing-two-histograms\n",
    "def coumpute_D(first, second):\n",
    "    min_len = min(len(first), len(second))\n",
    "    sum_res = 0\n",
    "    for i in range(min_len):\n",
    "        sum_res += pow(second.iloc[i] - first.iloc[i], exp=2)\n",
    "    res = math.sqrt(sum_res)\n",
    "    print (res)\n",
    "    \n",
    "def compute_chi(first, second):\n",
    "    min_len = min(len(first), len(second))\n",
    "    sum_res = 0\n",
    "    for i in range(min_len):\n",
    "        tmp =  pow(second.iloc[i] - first.iloc[i], exp=2)\n",
    "        sum_res += tmp/second.iloc[i]\n",
    "    print(sum_res)"
   ],
   "metadata": {
    "collapsed": false,
    "ExecuteTime": {
     "end_time": "2023-11-23T11:05:23.852568600Z",
     "start_time": "2023-11-23T11:05:23.772245Z"
    }
   },
   "id": "3c328ced243083c6",
   "outputs": []
  },
  {
   "cell_type": "code",
   "execution_count": 59,
   "source": [
    "coumpute_D(imdb, disney)\n",
    "coumpute_D(disney, imdb)\n",
    "coumpute_D(disney, disney)\n",
    "coumpute_D(disney, disney_bigger)\n",
    "coumpute_D(disney, disney_smaller)\n"
   ],
   "metadata": {
    "collapsed": false,
    "ExecuteTime": {
     "end_time": "2023-11-23T11:00:16.191103Z",
     "start_time": "2023-11-23T11:00:16.132351400Z"
    }
   },
   "id": "de995317261d124b",
   "outputs": []
  },
  {
   "cell_type": "code",
   "execution_count": 62,
   "source": [
    "compute_chi(imdb, disney)\n",
    "compute_chi(disney, imdb)\n",
    "compute_chi(disney, disney)\n",
    "compute_chi(disney, disney_bigger)\n",
    "compute_chi(disney_bigger, disney)\n",
    "compute_chi(disney_smaller, disney)\n",
    "compute_chi(disney, disney_smaller)"
   ],
   "metadata": {
    "collapsed": false,
    "ExecuteTime": {
     "end_time": "2023-11-23T11:06:38.663609500Z",
     "start_time": "2023-11-23T11:06:38.598660400Z"
    }
   },
   "id": "494812a87a9029a7",
   "outputs": []
  },
  {
   "cell_type": "code",
   "execution_count": 67,
   "source": [
    "import statistics\n",
    "\n",
    "print(f\"{statistics.stdev(disney)} {statistics.median(disney)}\")\n",
    "print(statistics.stdev(imdb))\n",
    "print(statistics.stdev(disney_bigger))\n",
    "print(statistics.stdev(disney_smaller))"
   ],
   "metadata": {
    "collapsed": false,
    "ExecuteTime": {
     "end_time": "2023-11-23T11:13:42.504164400Z",
     "start_time": "2023-11-23T11:13:42.492109Z"
    }
   },
   "id": "c1c14ec043c600f1",
   "outputs": []
  },
  {
   "cell_type": "code",
   "execution_count": null,
   "source": [],
   "metadata": {
    "collapsed": false
   },
   "id": "781511328d9721f",
   "outputs": []
  }
 ],
 "metadata": {
  "kernelspec": {
   "display_name": "Python 3",
   "language": "python",
   "name": "python3"
  },
  "language_info": {
   "codemirror_mode": {
    "name": "ipython",
    "version": 2
   },
   "file_extension": ".py",
   "mimetype": "text/x-python",
   "name": "python",
   "nbconvert_exporter": "python",
   "pygments_lexer": "ipython2",
   "version": "2.7.6"
  }
 },
 "nbformat": 4,
 "nbformat_minor": 5
}
