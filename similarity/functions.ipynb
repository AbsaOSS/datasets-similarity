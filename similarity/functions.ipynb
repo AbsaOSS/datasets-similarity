{
 "cells": [
  {
   "cell_type": "code",
   "execution_count": 1,
   "id": "initial_id",
   "metadata": {
    "collapsed": true,
    "ExecuteTime": {
     "end_time": "2023-11-23T09:40:57.734364600Z",
     "start_time": "2023-11-23T09:40:31.388912100Z"
    }
   },
   "outputs": [],
   "source": [
    "import math\n",
    "\n",
    "import pandas as pd\n",
    "\n",
    "import functions as f"
   ]
  },
  {
   "cell_type": "code",
   "execution_count": 2,
   "outputs": [
    {
     "name": "stdout",
     "output_type": "stream",
     "text": [
      "3\n"
     ]
    }
   ],
   "source": [
    "\n",
    "\n",
    "from similarity.DataFrameMetadata import DataFrameMetadata\n",
    "\n",
    "metadata = DataFrameMetadata()\n",
    "metadata.size = 3\n",
    "\n",
    "print(metadata.size)"
   ],
   "metadata": {
    "collapsed": false,
    "ExecuteTime": {
     "end_time": "2023-11-23T09:40:57.776166700Z",
     "start_time": "2023-11-23T09:40:57.734364600Z"
    }
   },
   "id": "8696a630a4b31c34"
  },
  {
   "cell_type": "code",
   "execution_count": 3,
   "outputs": [],
   "source": [
    "database, names = f.load__csv_files_from_folder(\"data\")\n"
   ],
   "metadata": {
    "collapsed": false,
    "ExecuteTime": {
     "end_time": "2023-11-23T09:40:58.178096700Z",
     "start_time": "2023-11-23T09:40:57.760515300Z"
    }
   },
   "id": "6bf2eb0080781ecf"
  },
  {
   "cell_type": "code",
   "execution_count": 4,
   "outputs": [],
   "source": [
    "from comparing import ComparatorForDatasets\n",
    "from collections import defaultdict\n",
    "\n",
    "metadata : dict[str, DataFrameMetadata] = defaultdict()\n",
    "for dataframe, name in zip(database, names):\n",
    "    metadata[name] = f.DataFrameWithStat(dataframe).compute_correlation(0.5).create_column_embeddings().get_metadata()\n",
    "    \n",
    "comparator = ComparatorForDatasets(metadata)"
   ],
   "metadata": {
    "collapsed": false,
    "ExecuteTime": {
     "end_time": "2023-11-23T09:41:19.068810200Z",
     "start_time": "2023-11-23T09:40:58.178096700Z"
    }
   },
   "id": "e934d926e6b910c3"
  },
  {
   "cell_type": "code",
   "execution_count": 12,
   "outputs": [
    {
     "data": {
      "text/plain": "genre\nComedy                 182\nAdventure              129\nDrama                  114\nAction                  40\nThriller/Suspense       24\nRomantic Comedy         23\nMusical                 16\nDocumentary             16\nWestern                  7\nHorror                   6\nBlack Comedy             3\nConcert/Performance      2\nName: count, dtype: int64"
     },
     "execution_count": 12,
     "metadata": {},
     "output_type": "execute_result"
    }
   ],
   "source": [],
   "metadata": {
    "collapsed": false,
    "ExecuteTime": {
     "end_time": "2023-11-23T09:45:48.660645900Z",
     "start_time": "2023-11-23T09:45:48.587666200Z"
    }
   },
   "id": "f855cc5b7560dde5"
  },
  {
   "cell_type": "code",
   "execution_count": 5,
   "outputs": [
    {
     "ename": "AttributeError",
     "evalue": "'numpy.ndarray' object has no attribute 'values'",
     "output_type": "error",
     "traceback": [
      "\u001B[1;31m---------------------------------------------------------------------------\u001B[0m",
      "\u001B[1;31mAttributeError\u001B[0m                            Traceback (most recent call last)",
      "Cell \u001B[1;32mIn[5], line 1\u001B[0m\n\u001B[1;32m----> 1\u001B[0m \u001B[43mcomparator\u001B[49m\u001B[38;5;241;43m.\u001B[39;49m\u001B[43mcross_compare_column_names\u001B[49m\u001B[43m(\u001B[49m\u001B[43m)\u001B[49m\n",
      "File \u001B[1;32m~\\Desktop\\thesis\\simillarity\\comparing.py:79\u001B[0m, in \u001B[0;36mComparatorForDatasets.cross_compare_column_names\u001B[1;34m(self)\u001B[0m\n\u001B[0;32m     77\u001B[0m \u001B[38;5;28;01mfor\u001B[39;00m table_name, table \u001B[38;5;129;01min\u001B[39;00m \u001B[38;5;28mself\u001B[39m\u001B[38;5;241m.\u001B[39mdatabase\u001B[38;5;241m.\u001B[39mitems():\n\u001B[0;32m     78\u001B[0m     similarity_values_for_columns \u001B[38;5;241m=\u001B[39m []\n\u001B[1;32m---> 79\u001B[0m     \u001B[38;5;28;01mfor\u001B[39;00m column_emb \u001B[38;5;129;01min\u001B[39;00m \u001B[43mtable\u001B[49m\u001B[38;5;241;43m.\u001B[39;49m\u001B[43mcolumn_name_embeddings\u001B[49m\u001B[38;5;241;43m.\u001B[39;49m\u001B[43mvalues\u001B[49m():\n\u001B[0;32m     80\u001B[0m         all_res \u001B[38;5;241m=\u001B[39m []\n\u001B[0;32m     81\u001B[0m         \u001B[38;5;28;01mfor\u001B[39;00m name, to_compare \u001B[38;5;129;01min\u001B[39;00m \u001B[38;5;28mself\u001B[39m\u001B[38;5;241m.\u001B[39mdatabase\u001B[38;5;241m.\u001B[39mitems():\n",
      "\u001B[1;31mAttributeError\u001B[0m: 'numpy.ndarray' object has no attribute 'values'"
     ]
    }
   ],
   "source": [
    "comparator.cross_compare_column_names()"
   ],
   "metadata": {
    "collapsed": false,
    "ExecuteTime": {
     "end_time": "2023-11-16T12:00:27.230558300Z",
     "start_time": "2023-11-16T12:00:24.945613700Z"
    }
   },
   "id": "d23f0b9176f513c"
  },
  {
   "cell_type": "code",
   "execution_count": 6,
   "outputs": [
    {
     "name": "stdout",
     "output_type": "stream",
     "text": [
      "aircraft-data_nov_dec  is most similar to  USA_cars_datasets  by  0.8473674456278483\n",
      "Airplane_Cleaned  is most similar to  aircraft-data_nov_dec  by  0.7950917482376099\n",
      "autoscout24-germany-dataset  is most similar to  CARS_1  by  0.7972323099772135\n",
      "CARS_1  is most similar to  USA_cars_datasets  by  0.8644307255744934\n",
      "disney_movies  is most similar to  imdb_top_1000  by  0.7005533277988434\n",
      "exchange_rates  is most similar to  imdb_top_1000  by  0.7916637659072876\n",
      "imdb_top_1000  is most similar to  netflix_titles  by  0.7878746655252244\n",
      "netflix_titles  is most similar to  imdb_top_1000  by  0.7437895685434341\n",
      "Sales_Transaction10000  is most similar to  transaction_data  by  0.7536337375640869\n",
      "transaction_data  is most similar to  disney_movies  by  0.7216140031814575\n",
      "USA_cars_datasets  is most similar to  CARS_1  by  0.6596778184175491\n"
     ]
    }
   ],
   "source": [
    "comparator.cross_compare()"
   ],
   "metadata": {
    "collapsed": false,
    "ExecuteTime": {
     "end_time": "2023-11-15T12:24:20.527223700Z",
     "start_time": "2023-11-15T12:24:20.472673100Z"
    }
   },
   "id": "5479cbc770703aa9"
  },
  {
   "cell_type": "code",
   "execution_count": 24,
   "outputs": [],
   "source": [
    "from similarity.Types import Types\n",
    "\n",
    "metadata_date : dict[str, DataFrameMetadata] = defaultdict()\n",
    "for dataframe, name in zip(database, names):\n",
    "    metadata_date[name] = f.DataFrameWithStat(dataframe).compute_correlation(0.5).create_column_embeddings([Types.STRING, Types.TEXT, Types.UNDEFINED, Types.DATE, Types.BOOL, Types.FLOAT, Types.NUMERICAL, Types.INT ]).get_metadata()\n",
    "    \n",
    "comparator_date = ComparatorForDatasets(metadata_date)"
   ],
   "metadata": {
    "collapsed": false,
    "ExecuteTime": {
     "end_time": "2023-11-15T13:30:01.363782700Z",
     "start_time": "2023-11-15T13:29:42.334011800Z"
    }
   },
   "id": "1fe47c717a24b9a2"
  },
  {
   "cell_type": "code",
   "execution_count": 25,
   "outputs": [
    {
     "name": "stdout",
     "output_type": "stream",
     "text": [
      "aircraft-data_nov_dec  is most similar to  transaction_data  by  0.9025638937950134\n",
      "Airplane_Cleaned  is most similar to  CARS_1  by  0.92059212071555\n",
      "autoscout24-germany-dataset  is most similar to  CARS_1  by  0.8280455946922303\n",
      "CARS_1  is most similar to  Airplane_Cleaned  by  0.8820204734802246\n",
      "disney_movies  is most similar to  imdb_top_1000  by  0.829899787902832\n",
      "exchange_rates  is most similar to  transaction_data  by  0.9999999403953552\n",
      "imdb_top_1000  is most similar to  netflix_titles  by  0.7933953180909157\n",
      "netflix_titles  is most similar to  imdb_top_1000  by  0.7732504265648978\n",
      "Sales_Transaction10000  is most similar to  transaction_data  by  0.8544233100754874\n",
      "transaction_data  is most similar to  Sales_Transaction10000  by  0.8617686629295349\n",
      "USA_cars_datasets  is most similar to  aircraft-data_nov_dec  by  0.8225808888673782\n"
     ]
    }
   ],
   "source": [
    "comparator_date.cross_compare()"
   ],
   "metadata": {
    "collapsed": false,
    "ExecuteTime": {
     "end_time": "2023-11-15T13:30:12.068755100Z",
     "start_time": "2023-11-15T13:30:11.958910300Z"
    }
   },
   "id": "642fc913e1a4d0b0"
  },
  {
   "cell_type": "code",
   "execution_count": 4,
   "outputs": [
    {
     "data": {
      "text/plain": "Unnamed: 0        10000\nflight             9989\ntail_number       10000\nlong              10000\nlat               10000\nalt               10000\nmanufacturer       9748\nmodel              9748\nreg_expiration     9680\nreg_owner          9748\nreg_city           9791\nreg_state          9790\nsquawk             9405\nmph               10000\nspotted           10000\ndtype: int64"
     },
     "execution_count": 4,
     "metadata": {},
     "output_type": "execute_result"
    }
   ],
   "source": [
    "database[0].count()\n"
   ],
   "metadata": {
    "collapsed": false,
    "ExecuteTime": {
     "end_time": "2023-11-15T09:15:13.212328200Z",
     "start_time": "2023-11-15T09:15:13.178157100Z"
    }
   },
   "id": "4f8d6980fde3224a"
  },
  {
   "cell_type": "code",
   "execution_count": 3,
   "outputs": [],
   "source": [
    "data0 = f.DataFrameWithStat(database[0])"
   ],
   "metadata": {
    "collapsed": false,
    "ExecuteTime": {
     "end_time": "2023-11-10T11:08:07.774491300Z",
     "start_time": "2023-11-10T11:08:07.015419600Z"
    }
   },
   "id": "a1ec8167d8484452"
  },
  {
   "cell_type": "code",
   "execution_count": 6,
   "outputs": [
    {
     "data": {
      "text/plain": "        alt      lat  squawk  mph     long  Unnamed: 0\n0     20175  34.5823  1077.0  474 -118.213           0\n1     36700  34.6038  7730.0  523 -117.937           1\n2     13225  34.6345  4770.0  380 -118.035           2\n3     33750  34.4643  1751.0  527 -118.075           3\n4     34725  34.6002  6054.0  525 -117.756           4\n...     ...      ...     ...  ...      ...         ...\n9995   9925  34.6057  7212.0  460 -118.179        9995\n9996  20900  34.6983  4710.0  460 -117.860        9996\n9997  23975  34.7452  3523.0  481 -118.280        9997\n9998   8075  34.5663  4662.0  322 -118.356        9998\n9999   7425  34.6309  6353.0  460 -118.070        9999\n\n[10000 rows x 6 columns]",
      "text/html": "<div>\n<style scoped>\n    .dataframe tbody tr th:only-of-type {\n        vertical-align: middle;\n    }\n\n    .dataframe tbody tr th {\n        vertical-align: top;\n    }\n\n    .dataframe thead th {\n        text-align: right;\n    }\n</style>\n<table border=\"1\" class=\"dataframe\">\n  <thead>\n    <tr style=\"text-align: right;\">\n      <th></th>\n      <th>alt</th>\n      <th>lat</th>\n      <th>squawk</th>\n      <th>mph</th>\n      <th>long</th>\n      <th>Unnamed: 0</th>\n    </tr>\n  </thead>\n  <tbody>\n    <tr>\n      <th>0</th>\n      <td>20175</td>\n      <td>34.5823</td>\n      <td>1077.0</td>\n      <td>474</td>\n      <td>-118.213</td>\n      <td>0</td>\n    </tr>\n    <tr>\n      <th>1</th>\n      <td>36700</td>\n      <td>34.6038</td>\n      <td>7730.0</td>\n      <td>523</td>\n      <td>-117.937</td>\n      <td>1</td>\n    </tr>\n    <tr>\n      <th>2</th>\n      <td>13225</td>\n      <td>34.6345</td>\n      <td>4770.0</td>\n      <td>380</td>\n      <td>-118.035</td>\n      <td>2</td>\n    </tr>\n    <tr>\n      <th>3</th>\n      <td>33750</td>\n      <td>34.4643</td>\n      <td>1751.0</td>\n      <td>527</td>\n      <td>-118.075</td>\n      <td>3</td>\n    </tr>\n    <tr>\n      <th>4</th>\n      <td>34725</td>\n      <td>34.6002</td>\n      <td>6054.0</td>\n      <td>525</td>\n      <td>-117.756</td>\n      <td>4</td>\n    </tr>\n    <tr>\n      <th>...</th>\n      <td>...</td>\n      <td>...</td>\n      <td>...</td>\n      <td>...</td>\n      <td>...</td>\n      <td>...</td>\n    </tr>\n    <tr>\n      <th>9995</th>\n      <td>9925</td>\n      <td>34.6057</td>\n      <td>7212.0</td>\n      <td>460</td>\n      <td>-118.179</td>\n      <td>9995</td>\n    </tr>\n    <tr>\n      <th>9996</th>\n      <td>20900</td>\n      <td>34.6983</td>\n      <td>4710.0</td>\n      <td>460</td>\n      <td>-117.860</td>\n      <td>9996</td>\n    </tr>\n    <tr>\n      <th>9997</th>\n      <td>23975</td>\n      <td>34.7452</td>\n      <td>3523.0</td>\n      <td>481</td>\n      <td>-118.280</td>\n      <td>9997</td>\n    </tr>\n    <tr>\n      <th>9998</th>\n      <td>8075</td>\n      <td>34.5663</td>\n      <td>4662.0</td>\n      <td>322</td>\n      <td>-118.356</td>\n      <td>9998</td>\n    </tr>\n    <tr>\n      <th>9999</th>\n      <td>7425</td>\n      <td>34.6309</td>\n      <td>6353.0</td>\n      <td>460</td>\n      <td>-118.070</td>\n      <td>9999</td>\n    </tr>\n  </tbody>\n</table>\n<p>10000 rows × 6 columns</p>\n</div>"
     },
     "execution_count": 6,
     "metadata": {},
     "output_type": "execute_result"
    }
   ],
   "source": [
    "data0.get_numerical_columns()"
   ],
   "metadata": {
    "collapsed": false,
    "ExecuteTime": {
     "end_time": "2023-11-10T09:30:54.048314800Z",
     "start_time": "2023-11-10T09:30:54.031347500Z"
    }
   },
   "id": "ed650185d0044ab6"
  },
  {
   "cell_type": "code",
   "execution_count": 4,
   "outputs": [
    {
     "data": {
      "text/plain": "{('alt', 'mph')}"
     },
     "execution_count": 4,
     "metadata": {},
     "output_type": "execute_result"
    }
   ],
   "source": [
    "data0.compute_correlation(0.5)"
   ],
   "metadata": {
    "collapsed": false,
    "ExecuteTime": {
     "end_time": "2023-11-10T11:08:07.791736600Z",
     "start_time": "2023-11-10T11:08:07.781269100Z"
    }
   },
   "id": "2d7de24f647f2356"
  },
  {
   "cell_type": "code",
   "execution_count": 11,
   "outputs": [
    {
     "name": "stdout",
     "output_type": "stream",
     "text": [
      "[(<Types.NUMERICAL: 1>, 'Unnamed: 0'), (<Types.STRING: 3>, 'flight'), (<Types.STRING: 3>, 'tail_number'), (<Types.NUMERICAL: 1>, 'long'), (<Types.NUMERICAL: 1>, 'lat'), (<Types.NUMERICAL: 1>, 'alt'), (<Types.STRING: 3>, 'manufacturer'), (<Types.STRING: 3>, 'model'), (<Types.DATE: 7>, 'reg_expiration'), (<Types.STRING: 3>, 'reg_owner'), (<Types.STRING: 3>, 'reg_city'), (<Types.STRING: 3>, 'reg_state'), (<Types.NUMERICAL: 1>, 'squawk'), (<Types.NUMERICAL: 1>, 'mph'), (<Types.DATE: 7>, 'spotted')]\n"
     ]
    }
   ],
   "source": [
    "print([(f.get_type(database[0][i]), i) for i in database[0].columns])\n"
   ],
   "metadata": {
    "collapsed": false,
    "ExecuteTime": {
     "end_time": "2023-11-10T09:30:54.687256800Z",
     "start_time": "2023-11-10T09:30:54.653522300Z"
    }
   },
   "id": "92c7c316184a8305"
  },
  {
   "cell_type": "code",
   "execution_count": 29,
   "outputs": [],
   "source": [
    "disney = metadata['disney_movies'].categorical_metadata['genre'].categories_with_count"
   ],
   "metadata": {
    "collapsed": false,
    "ExecuteTime": {
     "end_time": "2023-11-23T10:32:08.859857900Z",
     "start_time": "2023-11-23T10:32:08.749867600Z"
    }
   },
   "id": "e2783e4263be23d8"
  },
  {
   "cell_type": "code",
   "execution_count": 14,
   "outputs": [
    {
     "data": {
      "text/plain": "type\nMovie      6131\nTV Show    2676\nName: count, dtype: int64"
     },
     "execution_count": 14,
     "metadata": {},
     "output_type": "execute_result"
    }
   ],
   "source": [
    "metadata['netflix_titles'].categorical_metadata['type'].categories_with_count"
   ],
   "metadata": {
    "collapsed": false,
    "ExecuteTime": {
     "end_time": "2023-11-23T09:47:26.094226700Z",
     "start_time": "2023-11-23T09:47:25.953111100Z"
    }
   },
   "id": "8f823be8f03a6a44"
  },
  {
   "cell_type": "code",
   "execution_count": 30,
   "outputs": [],
   "source": [
    "imdb = metadata['imdb_top_1000'].categorical_metadata['IMDB_Rating'].categories_with_count"
   ],
   "metadata": {
    "collapsed": false,
    "ExecuteTime": {
     "end_time": "2023-11-23T10:32:18.725500600Z",
     "start_time": "2023-11-23T10:32:18.503727900Z"
    }
   },
   "id": "adf0bccba5fc9033"
  },
  {
   "cell_type": "code",
   "execution_count": 63,
   "outputs": [
    {
     "data": {
      "text/plain": "60.767214941650124"
     },
     "execution_count": 63,
     "metadata": {},
     "output_type": "execute_result"
    }
   ],
   "source": [],
   "metadata": {
    "collapsed": false,
    "ExecuteTime": {
     "end_time": "2023-11-23T11:10:09.998023Z",
     "start_time": "2023-11-23T11:10:09.889702200Z"
    }
   },
   "id": "70100f404f115926"
  },
  {
   "cell_type": "code",
   "execution_count": 53,
   "outputs": [
    {
     "data": {
      "text/plain": "genre\nComedy                 1820\nAdventure              1290\nDrama                  1140\nAction                  400\nThriller/Suspense       240\nRomantic Comedy         230\nMusical                 160\nDocumentary             160\nWestern                  70\nHorror                   60\nBlack Comedy             30\nConcert/Performance      20\nName: count, dtype: int64"
     },
     "execution_count": 53,
     "metadata": {},
     "output_type": "execute_result"
    }
   ],
   "source": [
    "\n",
    "disney_bigger = metadata['disney_movies'].categorical_metadata['genre'].categories_with_count.copy()\n",
    "disney_smaller = metadata['disney_movies'].categorical_metadata['genre'].categories_with_count.copy()\n",
    "for i in disney_bigger.items():\n",
    "    disney_bigger[i[0]] = i[1] * 10\n",
    "    disney_smaller[i[0]] = int(i[1] / 10)\n",
    "\n",
    "disney_bigger"
   ],
   "metadata": {
    "collapsed": false,
    "ExecuteTime": {
     "end_time": "2023-11-23T10:57:28.900278900Z",
     "start_time": "2023-11-23T10:57:28.672425300Z"
    }
   },
   "id": "ee6ebc01dd8d489d"
  },
  {
   "cell_type": "code",
   "execution_count": 60,
   "outputs": [],
   "source": [
    "import math\n",
    "# https://math.stackexchange.com/questions/2383969/properly-comparing-two-histograms\n",
    "def coumpute_D(first, second):\n",
    "    min_len = min(len(first), len(second))\n",
    "    sum_res = 0\n",
    "    for i in range(min_len):\n",
    "        sum_res += pow(second.iloc[i] - first.iloc[i], exp=2)\n",
    "    res = math.sqrt(sum_res)\n",
    "    print (res)\n",
    "    \n",
    "def compute_chi(first, second):\n",
    "    min_len = min(len(first), len(second))\n",
    "    sum_res = 0\n",
    "    for i in range(min_len):\n",
    "        tmp =  pow(second.iloc[i] - first.iloc[i], exp=2)\n",
    "        sum_res += tmp/second.iloc[i]\n",
    "    print(sum_res)"
   ],
   "metadata": {
    "collapsed": false,
    "ExecuteTime": {
     "end_time": "2023-11-23T11:05:23.852568600Z",
     "start_time": "2023-11-23T11:05:23.772245Z"
    }
   },
   "id": "3c328ced243083c6"
  },
  {
   "cell_type": "code",
   "execution_count": 59,
   "outputs": [
    {
     "name": "stdout",
     "output_type": "stream",
     "text": [
      "174.37603046290508\n",
      "174.37603046290508\n",
      "0.0\n",
      "2313.4727143409323\n",
      "232.29937580630732\n"
     ]
    }
   ],
   "source": [
    "coumpute_D(imdb, disney)\n",
    "coumpute_D(disney, imdb)\n",
    "coumpute_D(disney, disney)\n",
    "coumpute_D(disney, disney_bigger)\n",
    "coumpute_D(disney, disney_smaller)\n"
   ],
   "metadata": {
    "collapsed": false,
    "ExecuteTime": {
     "end_time": "2023-11-23T11:00:16.191103Z",
     "start_time": "2023-11-23T11:00:16.132351400Z"
    }
   },
   "id": "de995317261d124b"
  },
  {
   "cell_type": "code",
   "execution_count": 62,
   "outputs": [
    {
     "name": "stdout",
     "output_type": "stream",
     "text": [
      "1289.717360843483\n",
      "313.04804306466247\n",
      "0.0\n",
      "4552.200000000002\n",
      "45522.0\n",
      "464.82348206890407\n",
      "inf\n"
     ]
    },
    {
     "name": "stderr",
     "output_type": "stream",
     "text": [
      "C:\\Users\\ab032mj\\AppData\\Local\\Temp\\ipykernel_35604\\4103450190.py:16: RuntimeWarning: divide by zero encountered in scalar divide\n",
      "  sum_res += tmp/second.iloc[i]\n"
     ]
    }
   ],
   "source": [
    "compute_chi(imdb, disney)\n",
    "compute_chi(disney, imdb)\n",
    "compute_chi(disney, disney)\n",
    "compute_chi(disney, disney_bigger)\n",
    "compute_chi(disney_bigger, disney)\n",
    "compute_chi(disney_smaller, disney)\n",
    "compute_chi(disney, disney_smaller)"
   ],
   "metadata": {
    "collapsed": false,
    "ExecuteTime": {
     "end_time": "2023-11-23T11:06:38.663609500Z",
     "start_time": "2023-11-23T11:06:38.598660400Z"
    }
   },
   "id": "494812a87a9029a7"
  },
  {
   "cell_type": "code",
   "execution_count": 67,
   "outputs": [
    {
     "name": "stdout",
     "output_type": "stream",
     "text": [
      "60.117813625842345 19.5\n",
      "60.767214941650124\n",
      "601.1781362584234\n",
      "6.017021310793694\n"
     ]
    }
   ],
   "source": [
    "import statistics\n",
    "\n",
    "print(f\"{statistics.stdev(disney)} {statistics.median(disney)}\")\n",
    "print(statistics.stdev(imdb))\n",
    "print(statistics.stdev(disney_bigger))\n",
    "print(statistics.stdev(disney_smaller))"
   ],
   "metadata": {
    "collapsed": false,
    "ExecuteTime": {
     "end_time": "2023-11-23T11:13:42.504164400Z",
     "start_time": "2023-11-23T11:13:42.492109Z"
    }
   },
   "id": "c1c14ec043c600f1"
  },
  {
   "cell_type": "code",
   "execution_count": null,
   "outputs": [],
   "source": [],
   "metadata": {
    "collapsed": false
   },
   "id": "781511328d9721f"
  }
 ],
 "metadata": {
  "kernelspec": {
   "display_name": "Python 3",
   "language": "python",
   "name": "python3"
  },
  "language_info": {
   "codemirror_mode": {
    "name": "ipython",
    "version": 2
   },
   "file_extension": ".py",
   "mimetype": "text/x-python",
   "name": "python",
   "nbconvert_exporter": "python",
   "pygments_lexer": "ipython2",
   "version": "2.7.6"
  }
 },
 "nbformat": 4,
 "nbformat_minor": 5
}
