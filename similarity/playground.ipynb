{
 "cells": [
  {
   "cell_type": "code",
   "execution_count": 58,
   "id": "initial_id",
   "metadata": {
    "collapsed": true,
    "ExecuteTime": {
     "end_time": "2024-02-08T09:14:01.796368800Z",
     "start_time": "2024-02-08T09:14:01.016426800Z"
    }
   },
   "outputs": [
    {
     "ename": "ImportError",
     "evalue": "cannot import name 'Types' from 'similarity.Types' (C:\\Users\\ab032mj\\Desktop\\thesis\\simillarity\\similarity\\Types.py)",
     "output_type": "error",
     "traceback": [
      "\u001B[1;31m---------------------------------------------------------------------------\u001B[0m",
      "\u001B[1;31mImportError\u001B[0m                               Traceback (most recent call last)",
      "Cell \u001B[1;32mIn[58], line 3\u001B[0m\n\u001B[0;32m      1\u001B[0m \u001B[38;5;28;01mimport\u001B[39;00m \u001B[38;5;21;01mstring\u001B[39;00m\n\u001B[1;32m----> 3\u001B[0m \u001B[38;5;28;01mimport\u001B[39;00m \u001B[38;5;21;01mfunctions\u001B[39;00m \u001B[38;5;28;01mas\u001B[39;00m \u001B[38;5;21;01mf\u001B[39;00m\n\u001B[0;32m      4\u001B[0m \u001B[38;5;28;01mimport\u001B[39;00m \u001B[38;5;21;01mtime\u001B[39;00m\n\u001B[0;32m      5\u001B[0m \u001B[38;5;28;01mfrom\u001B[39;00m \u001B[38;5;21;01mcomparing\u001B[39;00m \u001B[38;5;28;01mimport\u001B[39;00m ComparatorForDatasets\n",
      "File \u001B[1;32m~\\Desktop\\thesis\\simillarity\\functions.py:4\u001B[0m\n\u001B[0;32m      1\u001B[0m \u001B[38;5;28;01mfrom\u001B[39;00m \u001B[38;5;21;01mitertools\u001B[39;00m \u001B[38;5;28;01mimport\u001B[39;00m compress\n\u001B[0;32m      3\u001B[0m \u001B[38;5;28;01mfrom\u001B[39;00m \u001B[38;5;21;01msimilarity\u001B[39;00m\u001B[38;5;21;01m.\u001B[39;00m\u001B[38;5;21;01mDataFrameMetadata\u001B[39;00m \u001B[38;5;28;01mimport\u001B[39;00m DataFrameMetadata, CategoricalMetadata\n\u001B[1;32m----> 4\u001B[0m \u001B[38;5;28;01mfrom\u001B[39;00m \u001B[38;5;21;01msimilarity\u001B[39;00m\u001B[38;5;21;01m.\u001B[39;00m\u001B[38;5;21;01mTypes\u001B[39;00m \u001B[38;5;28;01mimport\u001B[39;00m Types\n\u001B[0;32m      5\u001B[0m \u001B[38;5;28;01mfrom\u001B[39;00m \u001B[38;5;21;01mtyping\u001B[39;00m \u001B[38;5;28;01mimport\u001B[39;00m Optional\n\u001B[0;32m      7\u001B[0m \u001B[38;5;28;01mimport\u001B[39;00m \u001B[38;5;21;01mpandas\u001B[39;00m \u001B[38;5;28;01mas\u001B[39;00m \u001B[38;5;21;01mpd\u001B[39;00m\n",
      "\u001B[1;31mImportError\u001B[0m: cannot import name 'Types' from 'similarity.Types' (C:\\Users\\ab032mj\\Desktop\\thesis\\simillarity\\similarity\\Types.py)"
     ]
    }
   ],
   "source": [
    "import string\n",
    "\n",
    "import functions as f\n",
    "import time\n",
    "from comparing import ComparatorForDatasets\n",
    "from comparing import CategoricalSimilarity\n",
    "from similarity.DataFrameMetadataCreator import DataFrameMetadataCreator\n",
    "from similarity.DataFrameMetadata import DataFrameMetadata\n",
    "from collections import defaultdict\n",
    "from similarity.Comparator import Comparator\n",
    "import pandas as pd\n",
    "from similarity.Comparator import CategoricalComparator, ColumnEmbeddingComparator"
   ]
  },
  {
   "cell_type": "code",
   "outputs": [],
   "source": [
    "database, names = f.load__csv_files_from_folder(\"../data\")"
   ],
   "metadata": {
    "collapsed": false,
    "ExecuteTime": {
     "end_time": "2024-01-19T11:22:23.780213800Z",
     "start_time": "2024-01-19T11:22:23.602368100Z"
    }
   },
   "id": "4523f53e35474db6",
   "execution_count": 2
  },
  {
   "cell_type": "code",
   "outputs": [
    {
     "name": "stderr",
     "output_type": "stream",
     "text": [
      "C:\\Users\\ab032mj\\Desktop\\thesis\\simillarity\\venv\\Lib\\site-packages\\dateutil\\parser\\_parser.py:1207: UnknownTimezoneWarning: tzname ELSIE identified but not understood.  Pass `tzinfos` argument in order to correctly return a timezone-aware datetime.  In a future version, this will raise an exception.\n",
      "  warnings.warn(\"tzname {tzname} identified but not understood.  \"\n",
      "C:\\Users\\ab032mj\\Desktop\\thesis\\simillarity\\venv\\Lib\\site-packages\\dateutil\\parser\\_parser.py:1207: UnknownTimezoneWarning: tzname IST identified but not understood.  Pass `tzinfos` argument in order to correctly return a timezone-aware datetime.  In a future version, this will raise an exception.\n",
      "  warnings.warn(\"tzname {tzname} identified but not understood.  \"\n"
     ]
    }
   ],
   "source": [
    "metadata: dict[str, DataFrameMetadata] = defaultdict()\n",
    "for dataframe, name in zip(database, names):\n",
    "    metadata[name] = DataFrameMetadataCreator(dataframe).compute_advanced_structural_types().get_metadata()\n"
   ],
   "metadata": {
    "collapsed": false,
    "ExecuteTime": {
     "end_time": "2024-01-19T11:23:22.620783400Z",
     "start_time": "2024-01-19T11:23:00.150767500Z"
    }
   },
   "id": "cc3885776a0b34d9",
   "execution_count": 4
  },
  {
   "cell_type": "code",
   "outputs": [
    {
     "name": "stdout",
     "output_type": "stream",
     "text": [
      "aircraft-data_nov_dec\n",
      "\n",
      "Airplane_Cleaned\n",
      "TP mods   _Word.ALPHABETIC\n",
      "\n",
      "autoscout24-germany-dataset\n",
      "\n",
      "CARS_1\n",
      "\n",
      "disney_movies\n",
      "\n",
      "exchange_rates\n",
      "\n",
      "imdb_top_1000\n",
      "\n",
      "netflix_titles\n",
      "type   _Text.PHRASE\n",
      "\n",
      "Sales_Transaction10000\n",
      "\n",
      "transaction_data\n",
      "\n",
      "USA_cars_datasets\n",
      "country   _Word.ALL\n",
      "title_status   _Text.PHRASE\n"
     ]
    }
   ],
   "source": [
    "def get_type(item, met):\n",
    "    for key, i in met.type_column.items():\n",
    "        if item in i: \n",
    "            return key\n",
    "    \n",
    "for name, met in metadata.items():\n",
    "    print(name)\n",
    "    for key, i in met.column_kind.items():\n",
    "        if key.name == \"BOOL\" and i:\n",
    "            for item in i :\n",
    "                print(item, \" \",get_type(item, met))\n",
    "    print(\"\")"
   ],
   "metadata": {
    "collapsed": false,
    "ExecuteTime": {
     "end_time": "2024-01-17T11:51:00.227251Z",
     "start_time": "2024-01-17T11:51:00.217343800Z"
    }
   },
   "id": "cd981e348a9a61c5",
   "execution_count": 4
  },
  {
   "cell_type": "code",
   "outputs": [],
   "source": [],
   "metadata": {
    "collapsed": false
   },
   "id": "fb11f9e40b8a1db9"
  },
  {
   "cell_type": "code",
   "outputs": [],
   "source": [
    "class Types:\n",
    "    \"\"\"\n",
    "    Enum class representing column type\n",
    "    \"\"\"\n",
    "    class Numerical:\n",
    "        class Float:\n",
    "            HUMAN_GEN = \"human\"\n",
    "            COMPUTER_gen = \"computer\"\n",
    "        INT = \"int\"\n",
    "    \n",
    "    class NonNumerical:\n",
    "        ALPHABETICAL = \"alphabetical\"\n",
    "        ALPHANUMERICAL = \"alphanumerical\"\n",
    "        \n",
    "    \n",
    "\n",
    "    DATE = \"date\"\n",
    "    UNDEFINED = \"undefined\"\n",
    "    \n",
    "    "
   ],
   "metadata": {
    "collapsed": false,
    "ExecuteTime": {
     "end_time": "2024-02-01T11:19:15.398433400Z",
     "start_time": "2024-02-01T11:19:15.364799100Z"
    }
   },
   "id": "fa092e4edaefb10f",
   "execution_count": 11
  },
  {
   "cell_type": "code",
   "outputs": [],
   "source": [
    "class Type:\n",
    "    def __init__(self, name):\n",
    "        self.name = name\n",
    "\n",
    "class Numerical(Type):\n",
    "    pass\n",
    "\n",
    "class INT(Numerical):\n",
    "    pass\n",
    "\n",
    "class FLOAT(Numerical):\n",
    "    pass\n",
    "\n",
    "class HUMANGENERATED(FLOAT):\n",
    "    pass\n",
    "\n",
    "class PCGENERATED(FLOAT):\n",
    "    pass\n",
    "\n",
    "class NonNumerical(Type):\n",
    "    pass\n",
    "\n",
    "class WORD(NonNumerical):\n",
    "    pass\n",
    "\n",
    "class ALPHABETICAL(WORD):\n",
    "    pass\n",
    "\n",
    "class ALPHANUMERICAL(WORD):\n",
    "    pass\n",
    "\n",
    "class SENTENCE(NonNumerical):\n",
    "    pass\n",
    "\n",
    "class ARTICLE(NonNumerical):\n",
    "    pass\n",
    "\n"
   ],
   "metadata": {
    "collapsed": false,
    "ExecuteTime": {
     "end_time": "2024-02-02T10:31:28.012021700Z",
     "start_time": "2024-02-02T10:31:27.991503Z"
    }
   },
   "id": "ae6e2f87b229e430",
   "execution_count": 31
  },
  {
   "cell_type": "code",
   "outputs": [
    {
     "name": "stdout",
     "output_type": "stream",
     "text": [
      "True  True\n",
      "True  True\n",
      "True  True\n",
      "True  True\n",
      "False  False\n",
      "False\n"
     ]
    }
   ],
   "source": [
    "A = Numerical\n",
    "B = INT\n",
    "C = PCGENERATED\n",
    "H = FLOAT\n",
    "D = ALPHABETICAL\n",
    "E = SENTENCE\n",
    "G = ALPHANUMERICAL\n",
    "\n",
    "print(issubclass(B, A), \" True\")\n",
    "print(issubclass(C, A), \" True\")\n",
    "print(issubclass(C, H), \" True\")\n",
    "print(issubclass(H, A), \" True\")\n",
    "print(issubclass(B, H), \" False\")\n",
    "print(isinstance(A, B))"
   ],
   "metadata": {
    "collapsed": false,
    "ExecuteTime": {
     "end_time": "2024-02-02T10:35:11.320273800Z",
     "start_time": "2024-02-02T10:35:11.285903Z"
    }
   },
   "id": "9e9a240f89fe1d3b",
   "execution_count": 35
  },
  {
   "cell_type": "code",
   "outputs": [
    {
     "ename": "TypeError",
     "evalue": "'<' not supported between instances of 'type' and 'type'",
     "output_type": "error",
     "traceback": [
      "\u001B[1;31m---------------------------------------------------------------------------\u001B[0m",
      "\u001B[1;31mTypeError\u001B[0m                                 Traceback (most recent call last)",
      "Cell \u001B[1;32mIn[17], line 7\u001B[0m\n\u001B[0;32m      3\u001B[0m C \u001B[38;5;241m=\u001B[39m Types\u001B[38;5;241m.\u001B[39mNumerical\u001B[38;5;241m.\u001B[39mFloat\n\u001B[0;32m      4\u001B[0m \u001B[38;5;66;03m# C = Types.NUMERICAL.FLOAT.COMPUTER_gen\u001B[39;00m\n\u001B[0;32m      5\u001B[0m \u001B[38;5;66;03m# D = Types.NUMERICAL.FLOAT\u001B[39;00m\n\u001B[1;32m----> 7\u001B[0m \u001B[38;5;28mprint\u001B[39m(\u001B[43mA\u001B[49m\u001B[43m \u001B[49m\u001B[38;5;241;43m<\u001B[39;49m\u001B[43m \u001B[49m\u001B[43mC\u001B[49m)\n",
      "\u001B[1;31mTypeError\u001B[0m: '<' not supported between instances of 'type' and 'type'"
     ]
    }
   ],
   "source": [
    "A = Types.Numerical\n",
    "B = Types.NonNumerical\n",
    "C = Types.Numerical.Float\n",
    "# C = Types.NUMERICAL.FLOAT.COMPUTER_gen\n",
    "# D = Types.NUMERICAL.FLOAT\n",
    "\n",
    "print(A < C)"
   ],
   "metadata": {
    "collapsed": false,
    "ExecuteTime": {
     "end_time": "2024-02-02T08:56:28.066089200Z",
     "start_time": "2024-02-02T08:56:28.034366200Z"
    }
   },
   "id": "fe50695d71ab9597",
   "execution_count": 17
  },
  {
   "cell_type": "code",
   "outputs": [],
   "source": [
    "from similarity.Types import Types as tp\n",
    "\n",
    "tp.NUMERICAL"
   ],
   "metadata": {
    "collapsed": false
   },
   "id": "a758adb410381d25"
  },
  {
   "cell_type": "code",
   "outputs": [
    {
     "data": {
      "text/plain": "4"
     },
     "execution_count": 56,
     "metadata": {},
     "output_type": "execute_result"
    }
   ],
   "source": [
    "import math\n",
    "def count_str(text):\n",
    "    return len(text.split())\n",
    "\n",
    "count_str(\"ahoj jak se mas \")"
   ],
   "metadata": {
    "collapsed": false,
    "ExecuteTime": {
     "end_time": "2024-02-07T13:41:05.242737800Z",
     "start_time": "2024-02-07T13:41:05.169721800Z"
    }
   },
   "id": "f39938ed0adfb783",
   "execution_count": 56
  },
  {
   "cell_type": "code",
   "outputs": [
    {
     "name": "stdout",
     "output_type": "stream",
     "text": [
      "      0     1     2\n",
      "0  2.00  2.33  2.67\n",
      "1  1.67  2.00  3.67\n",
      "2  3.00  3.33  1.33\n"
     ]
    }
   ],
   "source": [
    "from similarity.Comparator import ComparatorType\n",
    "import pandas as pd\n",
    "df1 = pd.DataFrame([(1, 3, 3), (2, 1, 4), (2, 5, 1)])\n",
    "df2 = pd.DataFrame([(2, 3, 3), (1, 4, 2), (5, 1, 2)])\n",
    "df3 = pd.DataFrame([(3, 1, 2), (2, 1, 5), (2, 4, 1)])\n",
    "res = ComparatorType.concat(\"\",df1,df2,df3)\n",
    "print(res.map(lambda x: round(x, 2)))"
   ],
   "metadata": {
    "collapsed": false,
    "ExecuteTime": {
     "end_time": "2024-02-09T12:11:00.376704300Z",
     "start_time": "2024-02-09T12:11:00.355983300Z"
    }
   },
   "id": "4606fbff27d324e8",
   "execution_count": 4
  },
  {
   "cell_type": "code",
   "outputs": [
    {
     "name": "stdout",
     "output_type": "stream",
     "text": [
      "OK\n"
     ]
    }
   ],
   "source": [
    "def count_words(filepath):\n",
    "    with open(filepath, 'w') as file:\n",
    "        for i in string.ascii_lowercase:\n",
    "            file.write(i + \"\\n\")\n",
    "        return \"OK\"\n",
    " \n",
    "print(count_words(\"words1.txt\"))\n"
   ],
   "metadata": {
    "collapsed": false,
    "ExecuteTime": {
     "end_time": "2024-02-08T10:57:01.433657400Z",
     "start_time": "2024-02-08T10:57:01.427991Z"
    }
   },
   "id": "3200c4663c1d2599",
   "execution_count": 75
  },
  {
   "cell_type": "code",
   "outputs": [
    {
     "name": "stdout",
     "output_type": "stream",
     "text": [
      "5\n",
      "7\n",
      "9\n"
     ]
    }
   ],
   "source": [
    "a = [1,2,3]\n",
    "b = (4,5,6)\n",
    "for i,j in zip(a,b):\n",
    "    print(i+j)"
   ],
   "metadata": {
    "collapsed": false,
    "ExecuteTime": {
     "end_time": "2024-02-08T10:59:06.497383800Z",
     "start_time": "2024-02-08T10:59:06.486447600Z"
    }
   },
   "id": "4f572b970ab3a7af",
   "execution_count": 76
  },
  {
   "cell_type": "code",
   "outputs": [
    {
     "name": "stdout",
     "output_type": "stream",
     "text": [
      "The Zen of Python, by Tim Peters\n",
      "\n",
      "Beautiful is better than ugly.\n",
      "Explicit is better than implicit.\n",
      "Simple is better than complex.\n",
      "Complex is better than complicated.\n",
      "Flat is better than nested.\n",
      "Sparse is better than dense.\n",
      "Readability counts.\n",
      "Special cases aren't special enough to break the rules.\n",
      "Although practicality beats purity.\n",
      "Errors should never pass silently.\n",
      "Unless explicitly silenced.\n",
      "In the face of ambiguity, refuse the temptation to guess.\n",
      "There should be one-- and preferably only one --obvious way to do it.\n",
      "Although that way may not be obvious at first unless you're Dutch.\n",
      "Now is better than never.\n",
      "Although never is often better than *right* now.\n",
      "If the implementation is hard to explain, it's a bad idea.\n",
      "If the implementation is easy to explain, it may be a good idea.\n",
      "Namespaces are one honking great idea -- let's do more of those!\n"
     ]
    }
   ],
   "source": [
    "import this"
   ],
   "metadata": {
    "collapsed": false,
    "ExecuteTime": {
     "end_time": "2024-02-16T11:52:38.923041100Z",
     "start_time": "2024-02-16T11:52:38.917383700Z"
    }
   },
   "id": "11a32704b19e346",
   "execution_count": 7
  },
  {
   "cell_type": "code",
   "outputs": [
    {
     "ename": "TypeError",
     "evalue": "unsupported operand type(s) for +: 'int' and 'NoneType'",
     "output_type": "error",
     "traceback": [
      "\u001B[1;31m---------------------------------------------------------------------------\u001B[0m",
      "\u001B[1;31mTypeError\u001B[0m                                 Traceback (most recent call last)",
      "Cell \u001B[1;32mIn[8], line 2\u001B[0m\n\u001B[0;32m      1\u001B[0m b \u001B[38;5;241m=\u001B[39m \u001B[38;5;28;01mNone\u001B[39;00m\n\u001B[1;32m----> 2\u001B[0m a \u001B[38;5;241m=\u001B[39m \u001B[38;5;241;43m3\u001B[39;49m\u001B[43m \u001B[49m\u001B[38;5;241;43m+\u001B[39;49m\u001B[43m \u001B[49m\u001B[43mb\u001B[49m\n",
      "\u001B[1;31mTypeError\u001B[0m: unsupported operand type(s) for +: 'int' and 'NoneType'"
     ]
    }
   ],
   "source": [
    "b = None\n",
    "a = 3 + b"
   ],
   "metadata": {
    "collapsed": false,
    "ExecuteTime": {
     "end_time": "2024-02-16T12:58:37.027582100Z",
     "start_time": "2024-02-16T12:58:36.721900500Z"
    }
   },
   "id": "7f46d44e77e30860",
   "execution_count": 8
  },
  {
   "cell_type": "code",
   "outputs": [],
   "source": [],
   "metadata": {
    "collapsed": false
   },
   "id": "b960640b3b11d2ec"
  }
 ],
 "metadata": {
  "kernelspec": {
   "display_name": "Python 3",
   "language": "python",
   "name": "python3"
  },
  "language_info": {
   "codemirror_mode": {
    "name": "ipython",
    "version": 2
   },
   "file_extension": ".py",
   "mimetype": "text/x-python",
   "name": "python",
   "nbconvert_exporter": "python",
   "pygments_lexer": "ipython2",
   "version": "2.7.6"
  }
 },
 "nbformat": 4,
 "nbformat_minor": 5
}
